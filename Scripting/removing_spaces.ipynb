{
 "cells": [
  {
   "cell_type": "code",
   "execution_count": 12,
   "id": "5710e702",
   "metadata": {},
   "outputs": [],
   "source": [
    "import os, subprocess, re\n",
    "\n",
    "for subdir, dirs, files in os.walk('./'):    \n",
    "    for file in files:\n",
    "        if re.search('.pdbqt', file): \n",
    "                with open(file, \"r+\") as f:\n",
    "                    lines = f.readlines()\n",
    "                with open(f'modifiled_{file}' ,'w') as new:\n",
    "                    for line in lines:\n",
    "                        if len(line) >= 80:\n",
    "                            new_file = line[0:47] +line[48:]\n",
    "                        else:\n",
    "                            new_file = line\n",
    "                        new.write(new_file)"
   ]
  },
  {
   "cell_type": "code",
   "execution_count": null,
   "id": "ba53dd2a",
   "metadata": {},
   "outputs": [],
   "source": [
    "# https://userguide.mdanalysis.org/2.0.0-dev0/formats/reference/pdbqt.html"
   ]
  }
 ],
 "metadata": {
  "kernelspec": {
   "display_name": "Python 3",
   "language": "python",
   "name": "python3"
  },
  "language_info": {
   "codemirror_mode": {
    "name": "ipython",
    "version": 3
   },
   "file_extension": ".py",
   "mimetype": "text/x-python",
   "name": "python",
   "nbconvert_exporter": "python",
   "pygments_lexer": "ipython3",
   "version": "3.8.8"
  }
 },
 "nbformat": 4,
 "nbformat_minor": 5
}
